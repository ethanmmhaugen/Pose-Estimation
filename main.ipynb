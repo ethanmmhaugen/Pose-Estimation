{
 "cells": [
  {
   "cell_type": "markdown",
   "id": "d2fa2e6e-9b04-441e-a219-60e6c2a6971e",
   "metadata": {},
   "source": [
    "### Install Dependencies"
   ]
  },
  {
   "cell_type": "code",
   "execution_count": 3,
   "id": "d1c10b0c-08a3-48b7-8875-1b53c59a9600",
   "metadata": {},
   "outputs": [],
   "source": [
    "import mediapipe as mp\n",
    "import cv2"
   ]
  },
  {
   "cell_type": "code",
   "execution_count": 4,
   "id": "eac18c5e-620c-460b-a7ba-fa741c96b04a",
   "metadata": {},
   "outputs": [],
   "source": [
    "mp_drawing = mp.solutions.drawing_utils\n",
    "mp_holistic = mp.solutions.holistic"
   ]
  },
  {
   "cell_type": "markdown",
   "id": "2cd854f5-0d4f-4007-93a4-a8564f22e4e3",
   "metadata": {},
   "source": [
    "### 1. Getting Camera Feed"
   ]
  },
  {
   "cell_type": "code",
   "execution_count": 14,
   "id": "5a6bd750-9f45-43bf-8ad0-dd0f64a8bbcf",
   "metadata": {},
   "outputs": [
    {
     "ename": "KeyboardInterrupt",
     "evalue": "",
     "output_type": "error",
     "traceback": [
      "\u001b[1;31m---------------------------------------------------------------------------\u001b[0m",
      "\u001b[1;31mKeyboardInterrupt\u001b[0m                         Traceback (most recent call last)",
      "Cell \u001b[1;32mIn[14], line 6\u001b[0m\n\u001b[0;32m      3\u001b[0m     ret, frame \u001b[38;5;241m=\u001b[39m capture\u001b[38;5;241m.\u001b[39mread()\n\u001b[0;32m      4\u001b[0m     cv2\u001b[38;5;241m.\u001b[39mimshow(\u001b[38;5;124m'\u001b[39m\u001b[38;5;124mHolistic Model Detection\u001b[39m\u001b[38;5;124m'\u001b[39m, frame)\n\u001b[1;32m----> 6\u001b[0m     \u001b[38;5;28;01mif\u001b[39;00m \u001b[43mcv2\u001b[49m\u001b[38;5;241;43m.\u001b[39;49m\u001b[43mwaitKey\u001b[49m\u001b[43m(\u001b[49m\u001b[38;5;241;43m10\u001b[39;49m\u001b[43m)\u001b[49m \u001b[38;5;241m&\u001b[39m \u001b[38;5;241m0xFF\u001b[39m \u001b[38;5;241m==\u001b[39m \u001b[38;5;28mord\u001b[39m(\u001b[38;5;124m'\u001b[39m\u001b[38;5;124mq\u001b[39m\u001b[38;5;124m'\u001b[39m):\n\u001b[0;32m      7\u001b[0m         \u001b[38;5;28;01mbreak\u001b[39;00m\n\u001b[0;32m      9\u001b[0m capture\u001b[38;5;241m.\u001b[39mrelease()\n",
      "\u001b[1;31mKeyboardInterrupt\u001b[0m: "
     ]
    }
   ],
   "source": [
    "capture = cv2.VideoCapture(0)\n",
    "while capture.isOpened():\n",
    "    ret, frame = capture.read()\n",
    "    cv2.imshow('Holistic Model Detection', frame)\n",
    "\n",
    "    if cv2.waitKey(10) & 0xFF == ord('q'):\n",
    "        break\n",
    "\n",
    "capture.release()\n",
    "cv2.destroyAllWindows()"
   ]
  },
  {
   "cell_type": "code",
   "execution_count": 15,
   "id": "7fcbaa98-881c-4172-84ba-8edf3aeb31ac",
   "metadata": {},
   "outputs": [],
   "source": [
    "capture.release()\n",
    "cv2.destroyAllWindows()"
   ]
  },
  {
   "cell_type": "markdown",
   "id": "2cca3a75-d530-4780-9a0d-e0612865b52d",
   "metadata": {},
   "source": [
    "### 2. Make Detections with the Feed"
   ]
  },
  {
   "cell_type": "markdown",
   "id": "690f49a6-082b-4dca-a92e-ac9d28549be7",
   "metadata": {},
   "source": [
    "##### Full Body and Face Tracking"
   ]
  },
  {
   "cell_type": "code",
   "execution_count": 9,
   "id": "3a1b5a7c-08e8-4dbe-95a3-e48595c45685",
   "metadata": {},
   "outputs": [
    {
     "ename": "KeyboardInterrupt",
     "evalue": "",
     "output_type": "error",
     "traceback": [
      "\u001b[1;31m---------------------------------------------------------------------------\u001b[0m",
      "\u001b[1;31mKeyboardInterrupt\u001b[0m                         Traceback (most recent call last)",
      "Cell \u001b[1;32mIn[9], line 18\u001b[0m\n\u001b[0;32m     15\u001b[0m image \u001b[38;5;241m=\u001b[39m cv2\u001b[38;5;241m.\u001b[39mcvtColor(image, cv2\u001b[38;5;241m.\u001b[39mCOLOR_RGB2BGR)\n\u001b[0;32m     17\u001b[0m \u001b[38;5;66;03m# Draw face landmark\u001b[39;00m\n\u001b[1;32m---> 18\u001b[0m \u001b[43mmp_drawing\u001b[49m\u001b[38;5;241;43m.\u001b[39;49m\u001b[43mdraw_landmarks\u001b[49m\u001b[43m(\u001b[49m\u001b[43mimage\u001b[49m\u001b[43m,\u001b[49m\u001b[43m \u001b[49m\u001b[43mresults\u001b[49m\u001b[38;5;241;43m.\u001b[39;49m\u001b[43mface_landmarks\u001b[49m\u001b[43m,\u001b[49m\u001b[43m \u001b[49m\u001b[43mmp_holistic\u001b[49m\u001b[38;5;241;43m.\u001b[39;49m\u001b[43mFACEMESH_TESSELATION\u001b[49m\u001b[43m)\u001b[49m\n\u001b[0;32m     20\u001b[0m \u001b[38;5;66;03m# Draw Right Hand landmark\u001b[39;00m\n\u001b[0;32m     21\u001b[0m mp_drawing\u001b[38;5;241m.\u001b[39mdraw_landmarks(image, results\u001b[38;5;241m.\u001b[39mright_hand_landmarks, mp_holistic\u001b[38;5;241m.\u001b[39mHAND_CONNECTIONS)\n",
      "File \u001b[1;32m~\\AppData\\Local\\Programs\\Python\\Python310\\lib\\site-packages\\mediapipe\\python\\solutions\\drawing_utils.py:191\u001b[0m, in \u001b[0;36mdraw_landmarks\u001b[1;34m(image, landmark_list, connections, landmark_drawing_spec, connection_drawing_spec)\u001b[0m\n\u001b[0;32m    188\u001b[0m \u001b[38;5;66;03m# White circle border\u001b[39;00m\n\u001b[0;32m    189\u001b[0m circle_border_radius \u001b[38;5;241m=\u001b[39m \u001b[38;5;28mmax\u001b[39m(drawing_spec\u001b[38;5;241m.\u001b[39mcircle_radius \u001b[38;5;241m+\u001b[39m \u001b[38;5;241m1\u001b[39m,\n\u001b[0;32m    190\u001b[0m                            \u001b[38;5;28mint\u001b[39m(drawing_spec\u001b[38;5;241m.\u001b[39mcircle_radius \u001b[38;5;241m*\u001b[39m \u001b[38;5;241m1.2\u001b[39m))\n\u001b[1;32m--> 191\u001b[0m \u001b[43mcv2\u001b[49m\u001b[38;5;241;43m.\u001b[39;49m\u001b[43mcircle\u001b[49m\u001b[43m(\u001b[49m\u001b[43mimage\u001b[49m\u001b[43m,\u001b[49m\u001b[43m \u001b[49m\u001b[43mlandmark_px\u001b[49m\u001b[43m,\u001b[49m\u001b[43m \u001b[49m\u001b[43mcircle_border_radius\u001b[49m\u001b[43m,\u001b[49m\u001b[43m \u001b[49m\u001b[43mWHITE_COLOR\u001b[49m\u001b[43m,\u001b[49m\n\u001b[0;32m    192\u001b[0m \u001b[43m           \u001b[49m\u001b[43mdrawing_spec\u001b[49m\u001b[38;5;241;43m.\u001b[39;49m\u001b[43mthickness\u001b[49m\u001b[43m)\u001b[49m\n\u001b[0;32m    193\u001b[0m \u001b[38;5;66;03m# Fill color into the circle\u001b[39;00m\n\u001b[0;32m    194\u001b[0m cv2\u001b[38;5;241m.\u001b[39mcircle(image, landmark_px, drawing_spec\u001b[38;5;241m.\u001b[39mcircle_radius,\n\u001b[0;32m    195\u001b[0m            drawing_spec\u001b[38;5;241m.\u001b[39mcolor, drawing_spec\u001b[38;5;241m.\u001b[39mthickness)\n",
      "\u001b[1;31mKeyboardInterrupt\u001b[0m: "
     ]
    }
   ],
   "source": [
    "capture = cv2.VideoCapture(0)\n",
    "\n",
    "with mp_holistic.Holistic(min_detection_confidence=0.5, min_tracking_confidence=0.5) as holistic:\n",
    "\n",
    "    while capture.isOpened():\n",
    "        ret, frame = capture.read()\n",
    "\n",
    "        # Recolor feed\n",
    "        image = cv2.cvtColor(frame, cv2.COLOR_BGR2RGB)\n",
    "\n",
    "        # Make detections\n",
    "        results = holistic.process(image)\n",
    "\n",
    "        # Recolor image back to BGR for rendering\n",
    "        image = cv2.cvtColor(image, cv2.COLOR_RGB2BGR)\n",
    "\n",
    "        # Draw face landmark\n",
    "        mp_drawing.draw_landmarks(image, results.face_landmarks, mp_holistic.FACEMESH_TESSELATION)\n",
    "\n",
    "        # Draw Right Hand landmark\n",
    "        mp_drawing.draw_landmarks(image, results.right_hand_landmarks, mp_holistic.HAND_CONNECTIONS)\n",
    "\n",
    "        # Draw Left Hand landmark\n",
    "        mp_drawing.draw_landmarks(image, results.left_hand_landmarks, mp_holistic.HAND_CONNECTIONS)\n",
    "\n",
    "        # Pose Detection\n",
    "        mp_drawing.draw_landmarks(image, results.pose_landmarks, mp_holistic.POSE_CONNECTIONS)\n",
    "        cv2.imshow('Raw Webcam Feed', image)\n",
    "\n",
    "        if cv2.waitKey(10) & 0xFF == ord('q'):\n",
    "            break\n",
    "\n",
    "capture.release()\n",
    "cv2.destroyAllWindows()"
   ]
  },
  {
   "cell_type": "markdown",
   "id": "6f6eb2c4-8b9d-4885-8d91-c846586e6ee2",
   "metadata": {},
   "source": [
    "#### Only Body and Hands Tracking"
   ]
  },
  {
   "cell_type": "code",
   "execution_count": 13,
   "id": "ded547fb-eac3-449f-8fd6-1b5b521cc591",
   "metadata": {},
   "outputs": [
    {
     "ename": "KeyboardInterrupt",
     "evalue": "",
     "output_type": "error",
     "traceback": [
      "\u001b[1;31m---------------------------------------------------------------------------\u001b[0m",
      "\u001b[1;31mKeyboardInterrupt\u001b[0m                         Traceback (most recent call last)",
      "Cell \u001b[1;32mIn[13], line 30\u001b[0m\n\u001b[0;32m     27\u001b[0m         mp_drawing\u001b[38;5;241m.\u001b[39mdraw_landmarks(image, results\u001b[38;5;241m.\u001b[39mpose_landmarks, mp_holistic\u001b[38;5;241m.\u001b[39mPOSE_CONNECTIONS)\n\u001b[0;32m     28\u001b[0m         cv2\u001b[38;5;241m.\u001b[39mimshow(\u001b[38;5;124m'\u001b[39m\u001b[38;5;124mRaw Webcam Feed\u001b[39m\u001b[38;5;124m'\u001b[39m, image)\n\u001b[1;32m---> 30\u001b[0m         \u001b[38;5;28;01mif\u001b[39;00m \u001b[43mcv2\u001b[49m\u001b[38;5;241;43m.\u001b[39;49m\u001b[43mwaitKey\u001b[49m\u001b[43m(\u001b[49m\u001b[38;5;241;43m10\u001b[39;49m\u001b[43m)\u001b[49m \u001b[38;5;241m&\u001b[39m \u001b[38;5;241m0xFF\u001b[39m \u001b[38;5;241m==\u001b[39m \u001b[38;5;28mord\u001b[39m(\u001b[38;5;124m'\u001b[39m\u001b[38;5;124mq\u001b[39m\u001b[38;5;124m'\u001b[39m):\n\u001b[0;32m     31\u001b[0m             \u001b[38;5;28;01mbreak\u001b[39;00m\n\u001b[0;32m     33\u001b[0m capture\u001b[38;5;241m.\u001b[39mrelease()\n",
      "\u001b[1;31mKeyboardInterrupt\u001b[0m: "
     ]
    }
   ],
   "source": [
    "capture = cv2.VideoCapture(0)\n",
    "\n",
    "with mp_holistic.Holistic(min_detection_confidence=0.5, min_tracking_confidence=0.5) as holistic:\n",
    "\n",
    "    while capture.isOpened():\n",
    "        ret, frame = capture.read()\n",
    "\n",
    "        # Recolor feed\n",
    "        image = cv2.cvtColor(frame, cv2.COLOR_BGR2RGB)\n",
    "\n",
    "        # Make detections\n",
    "        results = holistic.process(image)\n",
    "\n",
    "        # Recolor image back to BGR for rendering\n",
    "        image = cv2.cvtColor(image, cv2.COLOR_RGB2BGR)\n",
    "\n",
    "        # Draw face landmark\n",
    "        # mp_drawing.draw_landmarks(image, results.face_landmarks, mp_holistic.FACEMESH_TESSELATION)\n",
    "\n",
    "        # Draw Right Hand landmark\n",
    "        mp_drawing.draw_landmarks(image, results.right_hand_landmarks, mp_holistic.HAND_CONNECTIONS)\n",
    "\n",
    "        # Draw Left Hand landmark\n",
    "        mp_drawing.draw_landmarks(image, results.left_hand_landmarks, mp_holistic.HAND_CONNECTIONS)\n",
    "\n",
    "        # Pose Detection\n",
    "        mp_drawing.draw_landmarks(image, results.pose_landmarks, mp_holistic.POSE_CONNECTIONS)\n",
    "        cv2.imshow('Raw Webcam Feed', image)\n",
    "\n",
    "        if cv2.waitKey(10) & 0xFF == ord('q'):\n",
    "            break\n",
    "\n",
    "capture.release()\n",
    "cv2.destroyAllWindows()"
   ]
  },
  {
   "cell_type": "code",
   "execution_count": null,
   "id": "c12f6f2e-d009-4c11-8db8-92e9a6cb14dd",
   "metadata": {},
   "outputs": [],
   "source": []
  }
 ],
 "metadata": {
  "kernelspec": {
   "display_name": "Python 3 (ipykernel)",
   "language": "python",
   "name": "python3"
  },
  "language_info": {
   "codemirror_mode": {
    "name": "ipython",
    "version": 3
   },
   "file_extension": ".py",
   "mimetype": "text/x-python",
   "name": "python",
   "nbconvert_exporter": "python",
   "pygments_lexer": "ipython3",
   "version": "3.10.10"
  }
 },
 "nbformat": 4,
 "nbformat_minor": 5
}
